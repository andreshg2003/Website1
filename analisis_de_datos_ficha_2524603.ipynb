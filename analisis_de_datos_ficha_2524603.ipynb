{
  "nbformat": 4,
  "nbformat_minor": 0,
  "metadata": {
    "colab": {
      "provenance": [],
      "authorship_tag": "ABX9TyMIFrO/G0XrkFTlh12oZEdn",
      "include_colab_link": true
    },
    "kernelspec": {
      "name": "python3",
      "display_name": "Python 3"
    },
    "language_info": {
      "name": "python"
    }
  },
  "cells": [
    {
      "cell_type": "markdown",
      "metadata": {
        "id": "view-in-github",
        "colab_type": "text"
      },
      "source": [
        "<a href=\"https://colab.research.google.com/github/andreshg2003/Website1/blob/main/analisis_de_datos_ficha_2524603.ipynb\" target=\"_parent\"><img src=\"https://colab.research.google.com/assets/colab-badge.svg\" alt=\"Open In Colab\"/></a>"
      ]
    },
    {
      "cell_type": "code",
      "execution_count": null,
      "metadata": {
        "id": "ToiKAoXisOTg",
        "colab": {
          "base_uri": "https://localhost:8080/"
        },
        "outputId": "4de3a84b-4fe4-49ff-b56c-e421bfa884e1"
      },
      "outputs": [
        {
          "output_type": "stream",
          "name": "stdout",
          "text": [
            "3\n"
          ]
        }
      ],
      "source": [
        "#ANDRES\n",
        "import pandas as pd\n",
        "# Una serie es como un vector unidimensional para las calificaciones\n",
        "# El indice es el que permite parametrizar cada calificacion\n",
        "serie = pd.Series([2.5,5.0,3.5,4.0,3.0], index =[\"Miguel\",\"Brayan\",\"Mariana\",\"Nicolas\",\"Laura\"])\n",
        "des=0\n",
        "for i in range(5):\n",
        "  if serie[i] >3.4:\n",
        "    des=des+1\n",
        "print(des)"
      ]
    },
    {
      "cell_type": "code",
      "source": [
        "#Importat el API pandas\n",
        "import pandas as pd\n",
        "\n",
        "#Cargamos los registrso en el diccionario de datos para el data frame\n",
        "aprendices = {'Nombre':[\"Miguel\",\"Brayan\",\"Mariana\",\"Nicolas\",\"Laura\"],\n",
        "              'Apellidos':[\"Martinez\", \"Bernal\", \"Guerrero\",\"Martinez\",\"Lopez\"],\n",
        "              'Sexo':[\"M\",\"M\",\"F\",\"M\",\"F\"],\n",
        "              'Edad':[25,20,19,22,20]\n",
        "              }\n",
        "\n",
        "#Definimos una variable\n",
        "df = pd.DataFrame(aprendices);\n",
        "print(df)\n",
        "\n",
        "#Definimos una varibales edad_mayor\n",
        "edad_mayor = df['Edad'].max()\n",
        "print(\"La edad mayor es\", edad_mayor)\n",
        "\n",
        "#Definimos la variable mediana\n",
        "mediana = df['Edad'].mean()\n",
        "print(\"El promedio de las edades es \", mediana )"
      ],
      "metadata": {
        "colab": {
          "base_uri": "https://localhost:8080/"
        },
        "id": "V32osWBlUtSw",
        "outputId": "7bea3388-7bd8-4621-c314-9f626fbee3dd"
      },
      "execution_count": null,
      "outputs": [
        {
          "output_type": "stream",
          "name": "stdout",
          "text": [
            "    Nombre Apellidos Sexo  Edad\n",
            "0   Miguel  Martinez    M    25\n",
            "1   Brayan    Bernal    M    20\n",
            "2  Mariana  Guerrero    F    19\n",
            "3  Nicolas  Martinez    M    22\n",
            "4    Laura     Lopez    F    20\n",
            "La edad mayor es 25\n",
            "El promedio de las edades es  21.2\n"
          ]
        }
      ]
    },
    {
      "cell_type": "code",
      "source": [
        "import matplotlib.pyplot as plt\n",
        "\n",
        "# capturamos el numero de aprendices a ingresar\n",
        "num_aprendicez = int(input(\"Ingrese el numero de aprendices a ingresar\"))\n",
        "aprendices = []\n",
        "calificaciones = []\n",
        "\n",
        "for i in range(num_aprendicez):\n",
        "  nombre = input(\"Ingrese el nombre: \")\n",
        "  calificacion = float(input(\"Ingrese su calificacion\"))\n",
        "  # utilizamos el metodo append para agregar el valor\n",
        "  aprendices.append(nombre)\n",
        "  calificaciones.append(calificacion)\n",
        "  i = i + 1\n",
        "\n",
        "# Calcular el promedio\n",
        "promedio = sum(calificaciones) / len(calificaciones)\n",
        "\n",
        "# Crear un gráfico de barras para mostrar las calificaciones\n",
        "plt.bar(aprendices, calificaciones)\n",
        "plt.xlabel(\"Aprendices\")\n",
        "plt.ylabel(\"Calificaciones\")\n",
        "plt.title(\"Calificaciones de los Aprendices\")\n",
        "plt.ylim(0, 5)\n",
        "# plt.axhline(y=promedio, color='r', linestyle='--', label=f\"Promedio ({promedio:.2f})\")\n",
        "plt.legend()\n",
        "plt.show()\n",
        "\n",
        "# Contar los aprendices con calificación mayor a 3.4\n",
        "calif_mayor_3_4 = [calif for calif in calificaciones if calif > 3.4]\n",
        "cantidad_aprendices = len(calif_mayor_3_4)\n",
        "\n",
        "# Crear un gráfico de barras para mostrar el resultado\n",
        "plt.bar([\"Calif. > 3.4\", \"Calif. <= 3.4\"], [cantidad_aprendices, len(calificaciones) - cantidad_aprendices])\n",
        "plt.xlabel(\"Condición\")\n",
        "plt.ylabel(\"Cantidad de Aprendices\")\n",
        "plt.title(\"Aprendices con Calificación Mayor a 3.4\")\n",
        "plt.show()"
      ],
      "metadata": {
        "colab": {
          "base_uri": "https://localhost:8080/",
          "height": 1000
        },
        "id": "xMNymdbzlHdD",
        "outputId": "b8ee5f39-6e34-465d-cf82-a52ecdc870f9"
      },
      "execution_count": null,
      "outputs": [
        {
          "name": "stdout",
          "output_type": "stream",
          "text": [
            "Ingrese el numero de aprendices a ingresar2\n",
            "Ingrese el nombre: johan\n",
            "Ingrese su calificacion5\n",
            "Ingrese el nombre: andres\n",
            "Ingrese su calificacion4\n"
          ]
        },
        {
          "output_type": "stream",
          "name": "stderr",
          "text": [
            "WARNING:matplotlib.legend:No artists with labels found to put in legend.  Note that artists whose label start with an underscore are ignored when legend() is called with no argument.\n"
          ]
        },
        {
          "output_type": "display_data",
          "data": {
            "text/plain": [
              "<Figure size 640x480 with 1 Axes>"
            ],
            "image/png": "[encoded data removed]"
          },
          "metadata": {}
        },
        {
          "output_type": "display_data",
          "data": {
            "text/plain": [
              "<Figure size 640x480 with 1 Axes>"
            ],
            "image/png": "[encoded data removed]"
          },
          "metadata": {}
        }
      ]
    },
    {
      "cell_type": "code",
      "source": [
        "serie = pd.Series([2.5,5.0,3.5,4.0,3.0], index =[\"Miguel\",\"Brayan\",\"Mariana\",\"Nicolas\",\"Laura\"])\n",
        "print(serie.sum()/5)"
      ],
      "metadata": {
        "id": "EkcDpsRqrKcB"
      },
      "execution_count": null,
      "outputs": []
    },
    {
      "cell_type": "code",
      "source": [
        "import pandas as pd"
      ],
      "metadata": {
        "id": "Hip8B9OCBLRT"
      },
      "execution_count": null,
      "outputs": []
    },
    {
      "cell_type": "code",
      "source": [
        "from pandas.core.api import Index\n",
        "import pandas as pd\n",
        "# Una serie es como un vector unidimensional para las calificaciones\n",
        "# El indice es el que permite parametrizar cada calificacion\n",
        "serie = pd.Series([2.5,5.0,3.5,4.0,3.0], index =[\"Miguel\",\"Brayan\",\"Mariana\",\"Nicolas\",\"Laura\"])\n",
        "#print(serie)\n",
        "# Si no se pasa la lista de índices se utilizan como índices los enteros del 0 al n-1,n done es el tamaño de la serie\n",
        "serie[serie.max()]\n",
        "\n"
      ],
      "metadata": {
        "colab": {
          "base_uri": "https://localhost:8080/",
          "height": 512
        },
        "id": "WCN3ajocCZai",
        "outputId": "36aba2c3-4170-4d80-838b-714bf37a3919"
      },
      "execution_count": null,
      "outputs": [
        {
          "output_type": "error",
          "ename": "KeyError",
          "evalue": "ignored",
          "traceback": [
            "\u001b[0;31m---------------------------------------------------------------------------\u001b[0m",
            "\u001b[0;31mKeyError\u001b[0m                                  Traceback (most recent call last)",
            "\u001b[0;32m/usr/local/lib/python3.10/dist-packages/pandas/core/indexes/base.py\u001b[0m in \u001b[0;36mget_loc\u001b[0;34m(self, key, method, tolerance)\u001b[0m\n\u001b[1;32m   3801\u001b[0m             \u001b[0;32mtry\u001b[0m\u001b[0;34m:\u001b[0m\u001b[0;34m\u001b[0m\u001b[0;34m\u001b[0m\u001b[0m\n\u001b[0;32m-> 3802\u001b[0;31m                 \u001b[0;32mreturn\u001b[0m \u001b[0mself\u001b[0m\u001b[0;34m.\u001b[0m\u001b[0m_engine\u001b[0m\u001b[0;34m.\u001b[0m\u001b[0mget_loc\u001b[0m\u001b[0;34m(\u001b[0m\u001b[0mcasted_key\u001b[0m\u001b[0;34m)\u001b[0m\u001b[0;34m\u001b[0m\u001b[0;34m\u001b[0m\u001b[0m\n\u001b[0m\u001b[1;32m   3803\u001b[0m             \u001b[0;32mexcept\u001b[0m \u001b[0mKeyError\u001b[0m \u001b[0;32mas\u001b[0m \u001b[0merr\u001b[0m\u001b[0;34m:\u001b[0m\u001b[0;34m\u001b[0m\u001b[0;34m\u001b[0m\u001b[0m\n",
            "\u001b[0;32m/usr/local/lib/python3.10/dist-packages/pandas/_libs/index.pyx\u001b[0m in \u001b[0;36mpandas._libs.index.IndexEngine.get_loc\u001b[0;34m()\u001b[0m\n",
            "\u001b[0;32m/usr/local/lib/python3.10/dist-packages/pandas/_libs/index.pyx\u001b[0m in \u001b[0;36mpandas._libs.index.IndexEngine.get_loc\u001b[0;34m()\u001b[0m\n",
            "\u001b[0;32mpandas/_libs/hashtable_class_helper.pxi\u001b[0m in \u001b[0;36mpandas._libs.hashtable.PyObjectHashTable.get_item\u001b[0;34m()\u001b[0m\n",
            "\u001b[0;32mpandas/_libs/hashtable_class_helper.pxi\u001b[0m in \u001b[0;36mpandas._libs.hashtable.PyObjectHashTable.get_item\u001b[0;34m()\u001b[0m\n",
            "\u001b[0;31mKeyError\u001b[0m: 5.0",
            "\nThe above exception was the direct cause of the following exception:\n",
            "\u001b[0;31mKeyError\u001b[0m                                  Traceback (most recent call last)",
            "\u001b[0;32m<ipython-input-8-c025661bc1aa>\u001b[0m in \u001b[0;36m<cell line: 8>\u001b[0;34m()\u001b[0m\n\u001b[1;32m      6\u001b[0m \u001b[0;31m#print(serie)\u001b[0m\u001b[0;34m\u001b[0m\u001b[0;34m\u001b[0m\u001b[0m\n\u001b[1;32m      7\u001b[0m \u001b[0;31m# Si no se pasa la lista de índices se utilizan como índices los enteros del 0 al n-1,n done es el tamaño de la serie\u001b[0m\u001b[0;34m\u001b[0m\u001b[0;34m\u001b[0m\u001b[0m\n\u001b[0;32m----> 8\u001b[0;31m \u001b[0mserie\u001b[0m\u001b[0;34m[\u001b[0m\u001b[0mserie\u001b[0m\u001b[0;34m.\u001b[0m\u001b[0mmax\u001b[0m\u001b[0;34m(\u001b[0m\u001b[0;34m)\u001b[0m\u001b[0;34m]\u001b[0m\u001b[0;34m\u001b[0m\u001b[0;34m\u001b[0m\u001b[0m\n\u001b[0m\u001b[1;32m      9\u001b[0m \u001b[0;34m\u001b[0m\u001b[0m\n",
            "\u001b[0;32m/usr/local/lib/python3.10/dist-packages/pandas/core/series.py\u001b[0m in \u001b[0;36m__getitem__\u001b[0;34m(self, key)\u001b[0m\n\u001b[1;32m    979\u001b[0m \u001b[0;34m\u001b[0m\u001b[0m\n\u001b[1;32m    980\u001b[0m         \u001b[0;32melif\u001b[0m \u001b[0mkey_is_scalar\u001b[0m\u001b[0;34m:\u001b[0m\u001b[0;34m\u001b[0m\u001b[0;34m\u001b[0m\u001b[0m\n\u001b[0;32m--> 981\u001b[0;31m             \u001b[0;32mreturn\u001b[0m \u001b[0mself\u001b[0m\u001b[0;34m.\u001b[0m\u001b[0m_get_value\u001b[0m\u001b[0;34m(\u001b[0m\u001b[0mkey\u001b[0m\u001b[0;34m)\u001b[0m\u001b[0;34m\u001b[0m\u001b[0;34m\u001b[0m\u001b[0m\n\u001b[0m\u001b[1;32m    982\u001b[0m \u001b[0;34m\u001b[0m\u001b[0m\n\u001b[1;32m    983\u001b[0m         \u001b[0;32mif\u001b[0m \u001b[0mis_hashable\u001b[0m\u001b[0;34m(\u001b[0m\u001b[0mkey\u001b[0m\u001b[0;34m)\u001b[0m\u001b[0;34m:\u001b[0m\u001b[0;34m\u001b[0m\u001b[0;34m\u001b[0m\u001b[0m\n",
            "\u001b[0;32m/usr/local/lib/python3.10/dist-packages/pandas/core/series.py\u001b[0m in \u001b[0;36m_get_value\u001b[0;34m(self, label, takeable)\u001b[0m\n\u001b[1;32m   1087\u001b[0m \u001b[0;34m\u001b[0m\u001b[0m\n\u001b[1;32m   1088\u001b[0m         \u001b[0;31m# Similar to Index.get_value, but we do not fall back to positional\u001b[0m\u001b[0;34m\u001b[0m\u001b[0;34m\u001b[0m\u001b[0m\n\u001b[0;32m-> 1089\u001b[0;31m         \u001b[0mloc\u001b[0m \u001b[0;34m=\u001b[0m \u001b[0mself\u001b[0m\u001b[0;34m.\u001b[0m\u001b[0mindex\u001b[0m\u001b[0;34m.\u001b[0m\u001b[0mget_loc\u001b[0m\u001b[0;34m(\u001b[0m\u001b[0mlabel\u001b[0m\u001b[0;34m)\u001b[0m\u001b[0;34m\u001b[0m\u001b[0;34m\u001b[0m\u001b[0m\n\u001b[0m\u001b[1;32m   1090\u001b[0m         \u001b[0;32mreturn\u001b[0m \u001b[0mself\u001b[0m\u001b[0;34m.\u001b[0m\u001b[0mindex\u001b[0m\u001b[0;34m.\u001b[0m\u001b[0m_get_values_for_loc\u001b[0m\u001b[0;34m(\u001b[0m\u001b[0mself\u001b[0m\u001b[0;34m,\u001b[0m \u001b[0mloc\u001b[0m\u001b[0;34m,\u001b[0m \u001b[0mlabel\u001b[0m\u001b[0;34m)\u001b[0m\u001b[0;34m\u001b[0m\u001b[0;34m\u001b[0m\u001b[0m\n\u001b[1;32m   1091\u001b[0m \u001b[0;34m\u001b[0m\u001b[0m\n",
            "\u001b[0;32m/usr/local/lib/python3.10/dist-packages/pandas/core/indexes/base.py\u001b[0m in \u001b[0;36mget_loc\u001b[0;34m(self, key, method, tolerance)\u001b[0m\n\u001b[1;32m   3802\u001b[0m                 \u001b[0;32mreturn\u001b[0m \u001b[0mself\u001b[0m\u001b[0;34m.\u001b[0m\u001b[0m_engine\u001b[0m\u001b[0;34m.\u001b[0m\u001b[0mget_loc\u001b[0m\u001b[0;34m(\u001b[0m\u001b[0mcasted_key\u001b[0m\u001b[0;34m)\u001b[0m\u001b[0;34m\u001b[0m\u001b[0;34m\u001b[0m\u001b[0m\n\u001b[1;32m   3803\u001b[0m             \u001b[0;32mexcept\u001b[0m \u001b[0mKeyError\u001b[0m \u001b[0;32mas\u001b[0m \u001b[0merr\u001b[0m\u001b[0;34m:\u001b[0m\u001b[0;34m\u001b[0m\u001b[0;34m\u001b[0m\u001b[0m\n\u001b[0;32m-> 3804\u001b[0;31m                 \u001b[0;32mraise\u001b[0m \u001b[0mKeyError\u001b[0m\u001b[0;34m(\u001b[0m\u001b[0mkey\u001b[0m\u001b[0;34m)\u001b[0m \u001b[0;32mfrom\u001b[0m \u001b[0merr\u001b[0m\u001b[0;34m\u001b[0m\u001b[0;34m\u001b[0m\u001b[0m\n\u001b[0m\u001b[1;32m   3805\u001b[0m             \u001b[0;32mexcept\u001b[0m \u001b[0mTypeError\u001b[0m\u001b[0;34m:\u001b[0m\u001b[0;34m\u001b[0m\u001b[0;34m\u001b[0m\u001b[0m\n\u001b[1;32m   3806\u001b[0m                 \u001b[0;31m# If we have a listlike key, _check_indexing_error will raise\u001b[0m\u001b[0;34m\u001b[0m\u001b[0;34m\u001b[0m\u001b[0m\n",
            "\u001b[0;31mKeyError\u001b[0m: 5.0"
          ]
        }
      ]
    },
    {
      "cell_type": "markdown",
      "source": [
        "#**ANDRES**\n",
        "\n",
        "> **Bloc con sangría**\n",
        "\n"
      ],
      "metadata": {
        "id": "O9O_Fo0bwEO7"
      }
    },
    {
      "cell_type": "code",
      "source": [
        "a = int(input(\"digite cuanto horas se demoro\"))\n",
        "resultado = a*1200\n",
        "print(\"el valor total de la cabina es\",resultado )"
      ],
      "metadata": {
        "colab": {
          "base_uri": "https://localhost:8080/"
        },
        "id": "q_6CmqqPz1KF",
        "outputId": "f49d779b-d067-4e3b-9b70-c0559d97e5c1"
      },
      "execution_count": null,
      "outputs": [
        {
          "output_type": "stream",
          "name": "stdout",
          "text": [
            "digite cuanto horas se demoro2\n",
            "el valor total de la cabina es 2400\n"
          ]
        }
      ]
    },
    {
      "cell_type": "code",
      "source": [
        "from IPython.utils.text import textwrap\n",
        "v = 90\n",
        "t = int(input(\"digite cuanto se demoro\"))\n",
        "d = v / t\n",
        "print(\"el resutado es\",d)\n",
        "\n"
      ],
      "metadata": {
        "colab": {
          "base_uri": "https://localhost:8080/"
        },
        "id": "2xMOKiMj0ims",
        "outputId": "5c9f6c86-94bc-4108-9b84-6adbd4f23bb9"
      },
      "execution_count": null,
      "outputs": [
        {
          "output_type": "stream",
          "name": "stdout",
          "text": [
            "digite cuanto se demoro4\n",
            "el resutado es 22.5\n"
          ]
        }
      ]
    },
    {
      "cell_type": "code",
      "source": [
        "s = int(input(\"digite su salrio\"))\n",
        "a = s*10/100\n",
        "d = s*3.5/100\n",
        "t = s+a-d\n",
        "print(\"su salario final es\",t)"
      ],
      "metadata": {
        "colab": {
          "base_uri": "https://localhost:8080/"
        },
        "id": "NoeVRQSM1o3y",
        "outputId": "1a634adf-b2fd-4430-d04e-f17563caa371"
      },
      "execution_count": null,
      "outputs": [
        {
          "output_type": "stream",
          "name": "stdout",
          "text": [
            "digite su salrio1000000\n",
            "su salario final es 1065000.0\n"
          ]
        }
      ]
    },
    {
      "cell_type": "code",
      "source": [
        "c = int(input(\"digite cuantos pesos quiere transformar\"))\n",
        "d = 0.00024 * c\n",
        "e = 0.00022 * c\n",
        "print(\"la conversion a dolar es\", d)\n",
        "print(\"la conversion a euros es\", e)\n"
      ],
      "metadata": {
        "id": "7AzHiMFF2btS"
      },
      "execution_count": null,
      "outputs": []
    },
    {
      "cell_type": "code",
      "source": [
        "i = int(input(\"digite cuanto invertio\"))\n",
        "m = 0.015 * 12\n",
        "resultado = i * m\n",
        "print(\"su inversion fue de \",resultado)"
      ],
      "metadata": {
        "colab": {
          "base_uri": "https://localhost:8080/"
        },
        "id": "I2CnYrbm3msJ",
        "outputId": "186cb8ab-77ca-4e46-ca09-32a29e1c18bb"
      },
      "execution_count": null,
      "outputs": [
        {
          "output_type": "stream",
          "name": "stdout",
          "text": [
            "digite cuanto invertio1000000\n",
            "su inversion fue de  180000.0\n"
          ]
        }
      ]
    }
  ]
}